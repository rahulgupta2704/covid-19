{
 "cells": [
  {
   "cell_type": "markdown",
   "metadata": {},
   "source": [
    "## WEEK-1 DETAILS:\n",
    "\n",
    "### Methodology used:"
   ]
  },
  {
   "cell_type": "markdown",
   "metadata": {},
   "source": [
    "In this notebook, I have focused on the corona virus cases worldwide and scrapped data from a number of websites:"
   ]
  },
  {
   "cell_type": "markdown",
   "metadata": {},
   "source": [
    "#### 1) Worldometers corona virus page\n",
    "       https://www.worldometers.info/coronavirus/\n",
    "       From this website it collects the data on total cases,actice cases,deaths,recovered & total tests\n",
    "#### 2) Worldometers population page\n",
    "       https://www.worldometers.info/world-population/population-by-country/\n",
    "       From this website it collects the data on the population in each country,population density & urban population percentage\n",
    "#### 3) GDP of all the countries\n",
    "    https://worldpopulationreview.com/countries/countries-by-gdp/\n",
    "    From this website we directly download the GDP data csv file\n",
    "#### 4) Tourism Data from Worldbank website\n",
    "    https://data.worldbank.org/indicator/ST.INT.ARVL\n",
    "    From this website we get the information on the number of tourists visiting any country in a year. From this website too, we directly download the csv"
   ]
  },
  {
   "cell_type": "markdown",
   "metadata": {},
   "source": [
    "### Approach:\n",
    "    1) Scrapping the corona virus data from source 1 into df1\n",
    "    2) Scrapping the population data from source 2 into df2 and exporting it to csv\n",
    "    3) Now preprocessing that csv to match the country names in df1\n",
    "    4) Preprocessing the GDP csv to match the country names in df1\n",
    "    5) Preprocessing the Tourism csv to match the country names in df1\n",
    "    6) Importing the population,gdp and tourism csv again\n",
    "    7) Merging the population,GDP & tourism dataframe to the coronavirus dataframe to get final df"
   ]
  },
  {
   "cell_type": "markdown",
   "metadata": {},
   "source": [
    "### Conclusion:\n",
    "   So by also adding the population data to the covid data, we can do in depth anaysis on the effect\n",
    "   of population, density,urbanisation on the pandemic.\n",
    "   \n",
    "   GDP data would help us to analyse to what extent the bigger economies have been successful in containing the pandemic\n",
    "   \n",
    "   Lastly the Tourism in each country gives us the most important information about number of people travelling to that country in a year as It is the mojor reason for the spread of COVID-19"
   ]
  },
  {
   "cell_type": "markdown",
   "metadata": {},
   "source": [
    "First importing all the libraries"
   ]
  },
  {
   "cell_type": "code",
   "execution_count": 1,
   "metadata": {},
   "outputs": [],
   "source": [
    "import requests\n",
    "from bs4 import BeautifulSoup\n",
    "import pandas as pd\n",
    "import numpy as np"
   ]
  },
  {
   "cell_type": "markdown",
   "metadata": {},
   "source": [
    "##### Getting the coronavirus data"
   ]
  },
  {
   "cell_type": "code",
   "execution_count": 2,
   "metadata": {},
   "outputs": [
    {
     "name": "stdout",
     "output_type": "stream",
     "text": [
      "<Response [200]>\n"
     ]
    }
   ],
   "source": [
    "url1 = \"https://www.worldometers.info/coronavirus/\"\n",
    "response1 = requests.get(url1)\n",
    "print (response1)"
   ]
  },
  {
   "cell_type": "code",
   "execution_count": 3,
   "metadata": {},
   "outputs": [
    {
     "data": {
      "text/plain": [
       "<title>Coronavirus Update (Live): 3,327,239 Cases and 234,702 Deaths from COVID-19 Virus Pandemic - Worldometer</title>"
      ]
     },
     "execution_count": 3,
     "metadata": {},
     "output_type": "execute_result"
    }
   ],
   "source": [
    "soup1 = BeautifulSoup(response1.content, \"html.parser\")\n",
    "soup1.title"
   ]
  },
  {
   "cell_type": "code",
   "execution_count": 4,
   "metadata": {},
   "outputs": [
    {
     "data": {
      "text/plain": [
       "2"
      ]
     },
     "execution_count": 4,
     "metadata": {},
     "output_type": "execute_result"
    }
   ],
   "source": [
    "tables1 = soup1.find_all(\"table\")\n",
    "len(tables1)"
   ]
  },
  {
   "cell_type": "code",
   "execution_count": 5,
   "metadata": {},
   "outputs": [],
   "source": [
    "coronatable = tables1[0]"
   ]
  },
  {
   "cell_type": "code",
   "execution_count": 6,
   "metadata": {},
   "outputs": [],
   "source": [
    "country1 = []\n",
    "totalcases = []\n",
    "totaldeaths = []\n",
    "totalrecovered = []\n",
    "activecases = []\n",
    "totaltests = []\n",
    "rows = coronatable.find_all(\"tr\")[9:-8]\n",
    "colname = [country1,totalcases,totaldeaths,totalrecovered,activecases,totaltests]\n",
    "colnum = [0,1,3,5,6,10]\n",
    "\n",
    "for row in rows:\n",
    "    col = row.find_all(\"td\")\n",
    "    for i,j in zip(colname,colnum):\n",
    "        s = col[j].text.strip()\n",
    "        s1 = s.replace(\",\",\"\")\n",
    "        i.append(s1)"
   ]
  },
  {
   "cell_type": "code",
   "execution_count": 10,
   "metadata": {},
   "outputs": [
    {
     "name": "stdout",
     "output_type": "stream",
     "text": [
      "<class 'pandas.core.frame.DataFrame'>\n",
      "RangeIndex: 214 entries, 0 to 213\n",
      "Data columns (total 6 columns):\n",
      " #   Column           Non-Null Count  Dtype \n",
      "---  ------           --------------  ----- \n",
      " 0   Country          214 non-null    object\n",
      " 1   Total_Cases      214 non-null    object\n",
      " 2   Total_Deaths     214 non-null    object\n",
      " 3   Total_Recovered  214 non-null    object\n",
      " 4   Active_Cases     214 non-null    object\n",
      " 5   Total_Tests      214 non-null    object\n",
      "dtypes: object(6)\n",
      "memory usage: 10.2+ KB\n"
     ]
    }
   ],
   "source": [
    "df1 = pd.DataFrame(list(zip(country1,totalcases,totaldeaths,totalrecovered,activecases,totaltests)), columns=[\"Country\",\"Total_Cases\",\"Total_Deaths\",\"Total_Recovered\",\"Active_Cases\",\"Total_Tests\"])\n",
    "df1.info()"
   ]
  },
  {
   "cell_type": "code",
   "execution_count": 11,
   "metadata": {},
   "outputs": [],
   "source": [
    "df.replace(r'^\\s*$', np.nan, regex=True, inplace=True)\n",
    "df.replace(np.nan,0, inplace=True)\n",
    "df.replace(\"N/A\",0,inplace = True)"
   ]
  },
  {
   "cell_type": "code",
   "execution_count": 12,
   "metadata": {},
   "outputs": [],
   "source": [
    "df.Total_Cases = pd.to_numeric(df.Total_Cases)\n",
    "df.Total_Deaths = pd.to_numeric(df.Total_Deaths)\n",
    "df.Total_Recovered = pd.to_numeric(df.Total_Recovered)\n",
    "df.Active_Cases = pd.to_numeric(df.Active_Cases)\n",
    "df.Total_Tests = pd.to_numeric(df.Total_Tests)"
   ]
  },
  {
   "cell_type": "code",
   "execution_count": 13,
   "metadata": {},
   "outputs": [
    {
     "name": "stdout",
     "output_type": "stream",
     "text": [
      "<class 'pandas.core.frame.DataFrame'>\n",
      "RangeIndex: 214 entries, 0 to 213\n",
      "Data columns (total 6 columns):\n",
      " #   Column           Non-Null Count  Dtype \n",
      "---  ------           --------------  ----- \n",
      " 0   Country          214 non-null    object\n",
      " 1   Total_Cases      214 non-null    int64 \n",
      " 2   Total_Deaths     214 non-null    int64 \n",
      " 3   Total_Recovered  214 non-null    int64 \n",
      " 4   Active_Cases     214 non-null    int64 \n",
      " 5   Total_Tests      214 non-null    int64 \n",
      "dtypes: int64(5), object(1)\n",
      "memory usage: 10.2+ KB\n"
     ]
    }
   ],
   "source": [
    "df.info()"
   ]
  },
  {
   "cell_type": "code",
   "execution_count": 22,
   "metadata": {},
   "outputs": [
    {
     "data": {
      "text/html": [
       "<div>\n",
       "<style scoped>\n",
       "    .dataframe tbody tr th:only-of-type {\n",
       "        vertical-align: middle;\n",
       "    }\n",
       "\n",
       "    .dataframe tbody tr th {\n",
       "        vertical-align: top;\n",
       "    }\n",
       "\n",
       "    .dataframe thead th {\n",
       "        text-align: right;\n",
       "    }\n",
       "</style>\n",
       "<table border=\"1\" class=\"dataframe\">\n",
       "  <thead>\n",
       "    <tr style=\"text-align: right;\">\n",
       "      <th></th>\n",
       "      <th>Country</th>\n",
       "      <th>Total_Cases</th>\n",
       "      <th>Total_Deaths</th>\n",
       "      <th>Total_Recovered</th>\n",
       "      <th>Active_Cases</th>\n",
       "      <th>Total_Tests</th>\n",
       "    </tr>\n",
       "  </thead>\n",
       "  <tbody>\n",
       "    <tr>\n",
       "      <th>0</th>\n",
       "      <td>Afghanistan</td>\n",
       "      <td>2335</td>\n",
       "      <td>68</td>\n",
       "      <td>310</td>\n",
       "      <td>1957</td>\n",
       "      <td>10593</td>\n",
       "    </tr>\n",
       "    <tr>\n",
       "      <th>1</th>\n",
       "      <td>Albania</td>\n",
       "      <td>773</td>\n",
       "      <td>31</td>\n",
       "      <td>470</td>\n",
       "      <td>272</td>\n",
       "      <td>8253</td>\n",
       "    </tr>\n",
       "    <tr>\n",
       "      <th>2</th>\n",
       "      <td>Algeria</td>\n",
       "      <td>4006</td>\n",
       "      <td>450</td>\n",
       "      <td>1779</td>\n",
       "      <td>1777</td>\n",
       "      <td>6500</td>\n",
       "    </tr>\n",
       "    <tr>\n",
       "      <th>3</th>\n",
       "      <td>Andorra</td>\n",
       "      <td>745</td>\n",
       "      <td>42</td>\n",
       "      <td>468</td>\n",
       "      <td>235</td>\n",
       "      <td>1673</td>\n",
       "    </tr>\n",
       "    <tr>\n",
       "      <th>4</th>\n",
       "      <td>Angola</td>\n",
       "      <td>27</td>\n",
       "      <td>2</td>\n",
       "      <td>7</td>\n",
       "      <td>18</td>\n",
       "      <td>0</td>\n",
       "    </tr>\n",
       "  </tbody>\n",
       "</table>\n",
       "</div>"
      ],
      "text/plain": [
       "       Country  Total_Cases  Total_Deaths  Total_Recovered  Active_Cases  \\\n",
       "0  Afghanistan         2335            68              310          1957   \n",
       "1      Albania          773            31              470           272   \n",
       "2      Algeria         4006           450             1779          1777   \n",
       "3      Andorra          745            42              468           235   \n",
       "4       Angola           27             2                7            18   \n",
       "\n",
       "   Total_Tests  \n",
       "0        10593  \n",
       "1         8253  \n",
       "2         6500  \n",
       "3         1673  \n",
       "4            0  "
      ]
     },
     "execution_count": 22,
     "metadata": {},
     "output_type": "execute_result"
    }
   ],
   "source": [
    "corona = df.sort_values(\"Country\",ignore_index=True)\n",
    "corona.head()"
   ]
  },
  {
   "cell_type": "markdown",
   "metadata": {},
   "source": [
    "##### Getting the population data"
   ]
  },
  {
   "cell_type": "code",
   "execution_count": 17,
   "metadata": {},
   "outputs": [
    {
     "name": "stdout",
     "output_type": "stream",
     "text": [
      "<Response [200]>\n"
     ]
    }
   ],
   "source": [
    "url2 = \"https://www.worldometers.info/world-population/population-by-country/\"\n",
    "response2 = requests.get(url2)\n",
    "print(response2)"
   ]
  },
  {
   "cell_type": "code",
   "execution_count": 18,
   "metadata": {},
   "outputs": [
    {
     "data": {
      "text/plain": [
       "<title>Population by Country (2020) - Worldometer</title>"
      ]
     },
     "execution_count": 18,
     "metadata": {},
     "output_type": "execute_result"
    }
   ],
   "source": [
    "soup2 = BeautifulSoup(response2.content, \"html.parser\")\n",
    "soup2.title"
   ]
  },
  {
   "cell_type": "code",
   "execution_count": 19,
   "metadata": {},
   "outputs": [
    {
     "data": {
      "text/plain": [
       "1"
      ]
     },
     "execution_count": 19,
     "metadata": {},
     "output_type": "execute_result"
    }
   ],
   "source": [
    "tables2 = soup2.find_all(\"table\")\n",
    "len(tables2)"
   ]
  },
  {
   "cell_type": "code",
   "execution_count": 20,
   "metadata": {},
   "outputs": [],
   "source": [
    "poptable = tables2[0]"
   ]
  },
  {
   "cell_type": "code",
   "execution_count": 21,
   "metadata": {},
   "outputs": [],
   "source": [
    "country2 = []\n",
    "population = []\n",
    "density = []\n",
    "urban = []\n",
    "rows = poptable.find_all(\"tr\")[1:]\n",
    "colname = [population,density,urban]\n",
    "colnum = [2,5,10]\n",
    "for row in rows:\n",
    "    col = row.find_all(\"td\")\n",
    "    country2.append(col[1].text.strip())\n",
    "    for i,j in zip(colname,colnum):\n",
    "        s = col[j].text.strip()\n",
    "        s1 = s.replace(\",\",\"\")\n",
    "        s2 = s1.replace(\" %\",\"\")\n",
    "        s3 = s2.replace(\"N.A.\",\"0\")\n",
    "        s4 = int(s3)\n",
    "        i.append(s4)"
   ]
  },
  {
   "cell_type": "code",
   "execution_count": 24,
   "metadata": {},
   "outputs": [
    {
     "data": {
      "text/html": [
       "<div>\n",
       "<style scoped>\n",
       "    .dataframe tbody tr th:only-of-type {\n",
       "        vertical-align: middle;\n",
       "    }\n",
       "\n",
       "    .dataframe tbody tr th {\n",
       "        vertical-align: top;\n",
       "    }\n",
       "\n",
       "    .dataframe thead th {\n",
       "        text-align: right;\n",
       "    }\n",
       "</style>\n",
       "<table border=\"1\" class=\"dataframe\">\n",
       "  <thead>\n",
       "    <tr style=\"text-align: right;\">\n",
       "      <th></th>\n",
       "      <th>Country</th>\n",
       "      <th>Population</th>\n",
       "      <th>Population_Density</th>\n",
       "      <th>Urban_Population_%</th>\n",
       "    </tr>\n",
       "  </thead>\n",
       "  <tbody>\n",
       "    <tr>\n",
       "      <th>0</th>\n",
       "      <td>China</td>\n",
       "      <td>1439323776</td>\n",
       "      <td>153</td>\n",
       "      <td>61</td>\n",
       "    </tr>\n",
       "    <tr>\n",
       "      <th>1</th>\n",
       "      <td>India</td>\n",
       "      <td>1380004385</td>\n",
       "      <td>464</td>\n",
       "      <td>35</td>\n",
       "    </tr>\n",
       "    <tr>\n",
       "      <th>2</th>\n",
       "      <td>United States</td>\n",
       "      <td>331002651</td>\n",
       "      <td>36</td>\n",
       "      <td>83</td>\n",
       "    </tr>\n",
       "    <tr>\n",
       "      <th>3</th>\n",
       "      <td>Indonesia</td>\n",
       "      <td>273523615</td>\n",
       "      <td>151</td>\n",
       "      <td>56</td>\n",
       "    </tr>\n",
       "    <tr>\n",
       "      <th>4</th>\n",
       "      <td>Pakistan</td>\n",
       "      <td>220892340</td>\n",
       "      <td>287</td>\n",
       "      <td>35</td>\n",
       "    </tr>\n",
       "  </tbody>\n",
       "</table>\n",
       "</div>"
      ],
      "text/plain": [
       "         Country  Population  Population_Density  Urban_Population_%\n",
       "0          China  1439323776                 153                  61\n",
       "1          India  1380004385                 464                  35\n",
       "2  United States   331002651                  36                  83\n",
       "3      Indonesia   273523615                 151                  56\n",
       "4       Pakistan   220892340                 287                  35"
      ]
     },
     "execution_count": 24,
     "metadata": {},
     "output_type": "execute_result"
    }
   ],
   "source": [
    "df2 = pd.DataFrame(list(zip(country2,population,density,urban)), columns=['Country','Population','Population_Density','Urban_Population_%'])\n",
    "df2.head()"
   ]
  },
  {
   "cell_type": "code",
   "execution_count": 26,
   "metadata": {},
   "outputs": [
    {
     "data": {
      "text/html": [
       "<div>\n",
       "<style scoped>\n",
       "    .dataframe tbody tr th:only-of-type {\n",
       "        vertical-align: middle;\n",
       "    }\n",
       "\n",
       "    .dataframe tbody tr th {\n",
       "        vertical-align: top;\n",
       "    }\n",
       "\n",
       "    .dataframe thead th {\n",
       "        text-align: right;\n",
       "    }\n",
       "</style>\n",
       "<table border=\"1\" class=\"dataframe\">\n",
       "  <thead>\n",
       "    <tr style=\"text-align: right;\">\n",
       "      <th></th>\n",
       "      <th>Country</th>\n",
       "      <th>Population</th>\n",
       "      <th>Population_Density</th>\n",
       "      <th>Urban_Population_%</th>\n",
       "    </tr>\n",
       "  </thead>\n",
       "  <tbody>\n",
       "    <tr>\n",
       "      <th>0</th>\n",
       "      <td>Afghanistan</td>\n",
       "      <td>38928346</td>\n",
       "      <td>60</td>\n",
       "      <td>25</td>\n",
       "    </tr>\n",
       "    <tr>\n",
       "      <th>1</th>\n",
       "      <td>Albania</td>\n",
       "      <td>2877797</td>\n",
       "      <td>105</td>\n",
       "      <td>63</td>\n",
       "    </tr>\n",
       "    <tr>\n",
       "      <th>2</th>\n",
       "      <td>Algeria</td>\n",
       "      <td>43851044</td>\n",
       "      <td>18</td>\n",
       "      <td>73</td>\n",
       "    </tr>\n",
       "    <tr>\n",
       "      <th>3</th>\n",
       "      <td>American Samoa</td>\n",
       "      <td>55191</td>\n",
       "      <td>276</td>\n",
       "      <td>88</td>\n",
       "    </tr>\n",
       "    <tr>\n",
       "      <th>4</th>\n",
       "      <td>Andorra</td>\n",
       "      <td>77265</td>\n",
       "      <td>164</td>\n",
       "      <td>88</td>\n",
       "    </tr>\n",
       "  </tbody>\n",
       "</table>\n",
       "</div>"
      ],
      "text/plain": [
       "          Country  Population  Population_Density  Urban_Population_%\n",
       "0     Afghanistan    38928346                  60                  25\n",
       "1         Albania     2877797                 105                  63\n",
       "2         Algeria    43851044                  18                  73\n",
       "3  American Samoa       55191                 276                  88\n",
       "4         Andorra       77265                 164                  88"
      ]
     },
     "execution_count": 26,
     "metadata": {},
     "output_type": "execute_result"
    }
   ],
   "source": [
    "df3 = df2.sort_values(\"Country\",ignore_index=True)\n",
    "df3.head()"
   ]
  },
  {
   "cell_type": "markdown",
   "metadata": {},
   "source": [
    "##### Many countries are represented with different names/abbreviations so to avoid duplicates, I am exporting both the data as csv and comparing both of them manually to fix that"
   ]
  },
  {
   "cell_type": "code",
   "execution_count": null,
   "metadata": {},
   "outputs": [],
   "source": [
    "corona.to_csv('1_corona_data.csv',index=False)"
   ]
  },
  {
   "cell_type": "code",
   "execution_count": null,
   "metadata": {},
   "outputs": [],
   "source": [
    "df3.to_csv(\"2_Population_data.csv\",index=False)"
   ]
  },
  {
   "cell_type": "markdown",
   "metadata": {},
   "source": [
    "##### After processing the population data to match the country names of the covid data, importing it again (You can find the processed csv in the repository )"
   ]
  },
  {
   "cell_type": "code",
   "execution_count": 37,
   "metadata": {},
   "outputs": [
    {
     "data": {
      "text/html": [
       "<div>\n",
       "<style scoped>\n",
       "    .dataframe tbody tr th:only-of-type {\n",
       "        vertical-align: middle;\n",
       "    }\n",
       "\n",
       "    .dataframe tbody tr th {\n",
       "        vertical-align: top;\n",
       "    }\n",
       "\n",
       "    .dataframe thead th {\n",
       "        text-align: right;\n",
       "    }\n",
       "</style>\n",
       "<table border=\"1\" class=\"dataframe\">\n",
       "  <thead>\n",
       "    <tr style=\"text-align: right;\">\n",
       "      <th></th>\n",
       "      <th>Country</th>\n",
       "      <th>Population</th>\n",
       "      <th>Population_Density</th>\n",
       "      <th>Urban_Population_%</th>\n",
       "    </tr>\n",
       "  </thead>\n",
       "  <tbody>\n",
       "    <tr>\n",
       "      <th>0</th>\n",
       "      <td>Afghanistan</td>\n",
       "      <td>38928346</td>\n",
       "      <td>60</td>\n",
       "      <td>25</td>\n",
       "    </tr>\n",
       "    <tr>\n",
       "      <th>1</th>\n",
       "      <td>Albania</td>\n",
       "      <td>2877797</td>\n",
       "      <td>105</td>\n",
       "      <td>63</td>\n",
       "    </tr>\n",
       "    <tr>\n",
       "      <th>2</th>\n",
       "      <td>Algeria</td>\n",
       "      <td>43851044</td>\n",
       "      <td>18</td>\n",
       "      <td>73</td>\n",
       "    </tr>\n",
       "    <tr>\n",
       "      <th>3</th>\n",
       "      <td>Andorra</td>\n",
       "      <td>77265</td>\n",
       "      <td>164</td>\n",
       "      <td>88</td>\n",
       "    </tr>\n",
       "    <tr>\n",
       "      <th>4</th>\n",
       "      <td>Angola</td>\n",
       "      <td>32866272</td>\n",
       "      <td>26</td>\n",
       "      <td>67</td>\n",
       "    </tr>\n",
       "  </tbody>\n",
       "</table>\n",
       "</div>"
      ],
      "text/plain": [
       "       Country  Population  Population_Density  Urban_Population_%\n",
       "0  Afghanistan    38928346                  60                  25\n",
       "1      Albania     2877797                 105                  63\n",
       "2      Algeria    43851044                  18                  73\n",
       "3      Andorra       77265                 164                  88\n",
       "4       Angola    32866272                  26                  67"
      ]
     },
     "execution_count": 37,
     "metadata": {},
     "output_type": "execute_result"
    }
   ],
   "source": [
    "population = pd.read_csv(\"2_Population_data.csv\")\n",
    "population.head()"
   ]
  },
  {
   "cell_type": "code",
   "execution_count": 28,
   "metadata": {},
   "outputs": [
    {
     "name": "stdout",
     "output_type": "stream",
     "text": [
      "<class 'pandas.core.frame.DataFrame'>\n",
      "RangeIndex: 214 entries, 0 to 213\n",
      "Data columns (total 4 columns):\n",
      " #   Column              Non-Null Count  Dtype \n",
      "---  ------              --------------  ----- \n",
      " 0   Country             214 non-null    object\n",
      " 1   Population          214 non-null    int64 \n",
      " 2   Population_Density  214 non-null    int64 \n",
      " 3   Urban_Population_%  214 non-null    int64 \n",
      "dtypes: int64(3), object(1)\n",
      "memory usage: 6.8+ KB\n"
     ]
    }
   ],
   "source": [
    "population.info()"
   ]
  },
  {
   "cell_type": "code",
   "execution_count": 29,
   "metadata": {},
   "outputs": [
    {
     "name": "stdout",
     "output_type": "stream",
     "text": [
      "<class 'pandas.core.frame.DataFrame'>\n",
      "RangeIndex: 214 entries, 0 to 213\n",
      "Data columns (total 6 columns):\n",
      " #   Column           Non-Null Count  Dtype \n",
      "---  ------           --------------  ----- \n",
      " 0   Country          214 non-null    object\n",
      " 1   Total_Cases      214 non-null    int64 \n",
      " 2   Total_Deaths     214 non-null    int64 \n",
      " 3   Total_Recovered  214 non-null    int64 \n",
      " 4   Active_Cases     214 non-null    int64 \n",
      " 5   Total_Tests      214 non-null    int64 \n",
      "dtypes: int64(5), object(1)\n",
      "memory usage: 10.2+ KB\n"
     ]
    }
   ],
   "source": [
    "corona.info()"
   ]
  },
  {
   "cell_type": "markdown",
   "metadata": {},
   "source": [
    "##### Merging both to get a new dataframe result1"
   ]
  },
  {
   "cell_type": "code",
   "execution_count": 35,
   "metadata": {},
   "outputs": [
    {
     "data": {
      "text/html": [
       "<div>\n",
       "<style scoped>\n",
       "    .dataframe tbody tr th:only-of-type {\n",
       "        vertical-align: middle;\n",
       "    }\n",
       "\n",
       "    .dataframe tbody tr th {\n",
       "        vertical-align: top;\n",
       "    }\n",
       "\n",
       "    .dataframe thead th {\n",
       "        text-align: right;\n",
       "    }\n",
       "</style>\n",
       "<table border=\"1\" class=\"dataframe\">\n",
       "  <thead>\n",
       "    <tr style=\"text-align: right;\">\n",
       "      <th></th>\n",
       "      <th>Country</th>\n",
       "      <th>Total_Cases</th>\n",
       "      <th>Total_Deaths</th>\n",
       "      <th>Total_Recovered</th>\n",
       "      <th>Active_Cases</th>\n",
       "      <th>Total_Tests</th>\n",
       "      <th>Population</th>\n",
       "      <th>Population_Density</th>\n",
       "      <th>Urban_Population_%</th>\n",
       "    </tr>\n",
       "  </thead>\n",
       "  <tbody>\n",
       "    <tr>\n",
       "      <th>0</th>\n",
       "      <td>Afghanistan</td>\n",
       "      <td>2335</td>\n",
       "      <td>68</td>\n",
       "      <td>310</td>\n",
       "      <td>1957</td>\n",
       "      <td>10593</td>\n",
       "      <td>38928346</td>\n",
       "      <td>60</td>\n",
       "      <td>25</td>\n",
       "    </tr>\n",
       "    <tr>\n",
       "      <th>1</th>\n",
       "      <td>Albania</td>\n",
       "      <td>773</td>\n",
       "      <td>31</td>\n",
       "      <td>470</td>\n",
       "      <td>272</td>\n",
       "      <td>8253</td>\n",
       "      <td>2877797</td>\n",
       "      <td>105</td>\n",
       "      <td>63</td>\n",
       "    </tr>\n",
       "    <tr>\n",
       "      <th>2</th>\n",
       "      <td>Algeria</td>\n",
       "      <td>4006</td>\n",
       "      <td>450</td>\n",
       "      <td>1779</td>\n",
       "      <td>1777</td>\n",
       "      <td>6500</td>\n",
       "      <td>43851044</td>\n",
       "      <td>18</td>\n",
       "      <td>73</td>\n",
       "    </tr>\n",
       "    <tr>\n",
       "      <th>3</th>\n",
       "      <td>Andorra</td>\n",
       "      <td>745</td>\n",
       "      <td>42</td>\n",
       "      <td>468</td>\n",
       "      <td>235</td>\n",
       "      <td>1673</td>\n",
       "      <td>77265</td>\n",
       "      <td>164</td>\n",
       "      <td>88</td>\n",
       "    </tr>\n",
       "    <tr>\n",
       "      <th>4</th>\n",
       "      <td>Angola</td>\n",
       "      <td>27</td>\n",
       "      <td>2</td>\n",
       "      <td>7</td>\n",
       "      <td>18</td>\n",
       "      <td>0</td>\n",
       "      <td>32866272</td>\n",
       "      <td>26</td>\n",
       "      <td>67</td>\n",
       "    </tr>\n",
       "  </tbody>\n",
       "</table>\n",
       "</div>"
      ],
      "text/plain": [
       "       Country  Total_Cases  Total_Deaths  Total_Recovered  Active_Cases  \\\n",
       "0  Afghanistan         2335            68              310          1957   \n",
       "1      Albania          773            31              470           272   \n",
       "2      Algeria         4006           450             1779          1777   \n",
       "3      Andorra          745            42              468           235   \n",
       "4       Angola           27             2                7            18   \n",
       "\n",
       "   Total_Tests  Population  Population_Density  Urban_Population_%  \n",
       "0        10593    38928346                  60                  25  \n",
       "1         8253     2877797                 105                  63  \n",
       "2         6500    43851044                  18                  73  \n",
       "3         1673       77265                 164                  88  \n",
       "4            0    32866272                  26                  67  "
      ]
     },
     "execution_count": 35,
     "metadata": {},
     "output_type": "execute_result"
    }
   ],
   "source": [
    "result1 = pd.merge(corona,population, on='Country')\n",
    "result1.head()"
   ]
  },
  {
   "cell_type": "code",
   "execution_count": 36,
   "metadata": {},
   "outputs": [
    {
     "name": "stdout",
     "output_type": "stream",
     "text": [
      "<class 'pandas.core.frame.DataFrame'>\n",
      "Int64Index: 214 entries, 0 to 213\n",
      "Data columns (total 9 columns):\n",
      " #   Column              Non-Null Count  Dtype \n",
      "---  ------              --------------  ----- \n",
      " 0   Country             214 non-null    object\n",
      " 1   Total_Cases         214 non-null    int64 \n",
      " 2   Total_Deaths        214 non-null    int64 \n",
      " 3   Total_Recovered     214 non-null    int64 \n",
      " 4   Active_Cases        214 non-null    int64 \n",
      " 5   Total_Tests         214 non-null    int64 \n",
      " 6   Population          214 non-null    int64 \n",
      " 7   Population_Density  214 non-null    int64 \n",
      " 8   Urban_Population_%  214 non-null    int64 \n",
      "dtypes: int64(8), object(1)\n",
      "memory usage: 16.7+ KB\n"
     ]
    }
   ],
   "source": [
    "result1.info()"
   ]
  },
  {
   "cell_type": "markdown",
   "metadata": {},
   "source": [
    "##### Importing the GDP and the Tourism data csv"
   ]
  },
  {
   "cell_type": "markdown",
   "metadata": {},
   "source": [
    "##### I have already filtered and processed the GDP and Travel data csv which you can find in the repository. If you want the raw csv then you can go to the links 3 and 4 mentioned at the start of this notebook"
   ]
  },
  {
   "cell_type": "markdown",
   "metadata": {},
   "source": [
    "##### The GDP data shows the GDP of the countries in Million USD"
   ]
  },
  {
   "cell_type": "code",
   "execution_count": 41,
   "metadata": {},
   "outputs": [
    {
     "data": {
      "text/html": [
       "<div>\n",
       "<style scoped>\n",
       "    .dataframe tbody tr th:only-of-type {\n",
       "        vertical-align: middle;\n",
       "    }\n",
       "\n",
       "    .dataframe tbody tr th {\n",
       "        vertical-align: top;\n",
       "    }\n",
       "\n",
       "    .dataframe thead th {\n",
       "        text-align: right;\n",
       "    }\n",
       "</style>\n",
       "<table border=\"1\" class=\"dataframe\">\n",
       "  <thead>\n",
       "    <tr style=\"text-align: right;\">\n",
       "      <th></th>\n",
       "      <th>Country</th>\n",
       "      <th>GDP_in_Mn</th>\n",
       "    </tr>\n",
       "  </thead>\n",
       "  <tbody>\n",
       "    <tr>\n",
       "      <th>0</th>\n",
       "      <td>Afghanistan</td>\n",
       "      <td>20682</td>\n",
       "    </tr>\n",
       "    <tr>\n",
       "      <th>1</th>\n",
       "      <td>Albania</td>\n",
       "      <td>17210</td>\n",
       "    </tr>\n",
       "    <tr>\n",
       "      <th>2</th>\n",
       "      <td>Algeria</td>\n",
       "      <td>193056</td>\n",
       "    </tr>\n",
       "    <tr>\n",
       "      <th>3</th>\n",
       "      <td>Andorra</td>\n",
       "      <td>0</td>\n",
       "    </tr>\n",
       "    <tr>\n",
       "      <th>4</th>\n",
       "      <td>Angola</td>\n",
       "      <td>96426</td>\n",
       "    </tr>\n",
       "  </tbody>\n",
       "</table>\n",
       "</div>"
      ],
      "text/plain": [
       "       Country  GDP_in_Mn\n",
       "0  Afghanistan      20682\n",
       "1      Albania      17210\n",
       "2      Algeria     193056\n",
       "3      Andorra          0\n",
       "4       Angola      96426"
      ]
     },
     "execution_count": 41,
     "metadata": {},
     "output_type": "execute_result"
    }
   ],
   "source": [
    "gdp = pd.read_csv(\"3_GDP_data.csv\")\n",
    "gdp.head()"
   ]
  },
  {
   "cell_type": "markdown",
   "metadata": {},
   "source": [
    "##### The travel data shows the number of arrivals in thousands for a country in a year"
   ]
  },
  {
   "cell_type": "code",
   "execution_count": 43,
   "metadata": {},
   "outputs": [],
   "source": [
    "travel = pd.read_csv(\"4_Travel_data.csv\")"
   ]
  },
  {
   "cell_type": "code",
   "execution_count": 44,
   "metadata": {},
   "outputs": [
    {
     "data": {
      "text/html": [
       "<div>\n",
       "<style scoped>\n",
       "    .dataframe tbody tr th:only-of-type {\n",
       "        vertical-align: middle;\n",
       "    }\n",
       "\n",
       "    .dataframe tbody tr th {\n",
       "        vertical-align: top;\n",
       "    }\n",
       "\n",
       "    .dataframe thead th {\n",
       "        text-align: right;\n",
       "    }\n",
       "</style>\n",
       "<table border=\"1\" class=\"dataframe\">\n",
       "  <thead>\n",
       "    <tr style=\"text-align: right;\">\n",
       "      <th></th>\n",
       "      <th>Country</th>\n",
       "      <th>Num_of_Tourists_Arrival_in_1000s</th>\n",
       "    </tr>\n",
       "  </thead>\n",
       "  <tbody>\n",
       "    <tr>\n",
       "      <th>0</th>\n",
       "      <td>Afghanistan</td>\n",
       "      <td>0</td>\n",
       "    </tr>\n",
       "    <tr>\n",
       "      <th>1</th>\n",
       "      <td>Albania</td>\n",
       "      <td>5340000</td>\n",
       "    </tr>\n",
       "    <tr>\n",
       "      <th>2</th>\n",
       "      <td>Algeria</td>\n",
       "      <td>2657000</td>\n",
       "    </tr>\n",
       "    <tr>\n",
       "      <th>3</th>\n",
       "      <td>Andorra</td>\n",
       "      <td>3042000</td>\n",
       "    </tr>\n",
       "    <tr>\n",
       "      <th>4</th>\n",
       "      <td>Angola</td>\n",
       "      <td>218000</td>\n",
       "    </tr>\n",
       "  </tbody>\n",
       "</table>\n",
       "</div>"
      ],
      "text/plain": [
       "       Country  Num_of_Tourists_Arrival_in_1000s\n",
       "0  Afghanistan                                 0\n",
       "1      Albania                           5340000\n",
       "2      Algeria                           2657000\n",
       "3      Andorra                           3042000\n",
       "4       Angola                            218000"
      ]
     },
     "execution_count": 44,
     "metadata": {},
     "output_type": "execute_result"
    }
   ],
   "source": [
    "travel.head()"
   ]
  },
  {
   "cell_type": "markdown",
   "metadata": {},
   "source": [
    "Merging the GDP data to result1 "
   ]
  },
  {
   "cell_type": "code",
   "execution_count": 46,
   "metadata": {},
   "outputs": [
    {
     "data": {
      "text/html": [
       "<div>\n",
       "<style scoped>\n",
       "    .dataframe tbody tr th:only-of-type {\n",
       "        vertical-align: middle;\n",
       "    }\n",
       "\n",
       "    .dataframe tbody tr th {\n",
       "        vertical-align: top;\n",
       "    }\n",
       "\n",
       "    .dataframe thead th {\n",
       "        text-align: right;\n",
       "    }\n",
       "</style>\n",
       "<table border=\"1\" class=\"dataframe\">\n",
       "  <thead>\n",
       "    <tr style=\"text-align: right;\">\n",
       "      <th></th>\n",
       "      <th>Country</th>\n",
       "      <th>Total_Cases</th>\n",
       "      <th>Total_Deaths</th>\n",
       "      <th>Total_Recovered</th>\n",
       "      <th>Active_Cases</th>\n",
       "      <th>Total_Tests</th>\n",
       "      <th>Population</th>\n",
       "      <th>Population_Density</th>\n",
       "      <th>Urban_Population_%</th>\n",
       "      <th>GDP_in_Mn</th>\n",
       "    </tr>\n",
       "  </thead>\n",
       "  <tbody>\n",
       "    <tr>\n",
       "      <th>0</th>\n",
       "      <td>Afghanistan</td>\n",
       "      <td>2335</td>\n",
       "      <td>68</td>\n",
       "      <td>310</td>\n",
       "      <td>1957</td>\n",
       "      <td>10593</td>\n",
       "      <td>38928346</td>\n",
       "      <td>60</td>\n",
       "      <td>25</td>\n",
       "      <td>20682</td>\n",
       "    </tr>\n",
       "    <tr>\n",
       "      <th>1</th>\n",
       "      <td>Albania</td>\n",
       "      <td>773</td>\n",
       "      <td>31</td>\n",
       "      <td>470</td>\n",
       "      <td>272</td>\n",
       "      <td>8253</td>\n",
       "      <td>2877797</td>\n",
       "      <td>105</td>\n",
       "      <td>63</td>\n",
       "      <td>17210</td>\n",
       "    </tr>\n",
       "    <tr>\n",
       "      <th>2</th>\n",
       "      <td>Algeria</td>\n",
       "      <td>4006</td>\n",
       "      <td>450</td>\n",
       "      <td>1779</td>\n",
       "      <td>1777</td>\n",
       "      <td>6500</td>\n",
       "      <td>43851044</td>\n",
       "      <td>18</td>\n",
       "      <td>73</td>\n",
       "      <td>193056</td>\n",
       "    </tr>\n",
       "    <tr>\n",
       "      <th>3</th>\n",
       "      <td>Andorra</td>\n",
       "      <td>745</td>\n",
       "      <td>42</td>\n",
       "      <td>468</td>\n",
       "      <td>235</td>\n",
       "      <td>1673</td>\n",
       "      <td>77265</td>\n",
       "      <td>164</td>\n",
       "      <td>88</td>\n",
       "      <td>0</td>\n",
       "    </tr>\n",
       "    <tr>\n",
       "      <th>4</th>\n",
       "      <td>Angola</td>\n",
       "      <td>27</td>\n",
       "      <td>2</td>\n",
       "      <td>7</td>\n",
       "      <td>18</td>\n",
       "      <td>0</td>\n",
       "      <td>32866272</td>\n",
       "      <td>26</td>\n",
       "      <td>67</td>\n",
       "      <td>96426</td>\n",
       "    </tr>\n",
       "  </tbody>\n",
       "</table>\n",
       "</div>"
      ],
      "text/plain": [
       "       Country  Total_Cases  Total_Deaths  Total_Recovered  Active_Cases  \\\n",
       "0  Afghanistan         2335            68              310          1957   \n",
       "1      Albania          773            31              470           272   \n",
       "2      Algeria         4006           450             1779          1777   \n",
       "3      Andorra          745            42              468           235   \n",
       "4       Angola           27             2                7            18   \n",
       "\n",
       "   Total_Tests  Population  Population_Density  Urban_Population_%  GDP_in_Mn  \n",
       "0        10593    38928346                  60                  25      20682  \n",
       "1         8253     2877797                 105                  63      17210  \n",
       "2         6500    43851044                  18                  73     193056  \n",
       "3         1673       77265                 164                  88          0  \n",
       "4            0    32866272                  26                  67      96426  "
      ]
     },
     "execution_count": 46,
     "metadata": {},
     "output_type": "execute_result"
    }
   ],
   "source": [
    "result2 = pd.merge(result1,gdp, on='Country')\n",
    "result2.head()"
   ]
  },
  {
   "cell_type": "markdown",
   "metadata": {},
   "source": [
    "##### Finally merging the travel data to get the final dataframe"
   ]
  },
  {
   "cell_type": "code",
   "execution_count": 48,
   "metadata": {},
   "outputs": [
    {
     "data": {
      "text/html": [
       "<div>\n",
       "<style scoped>\n",
       "    .dataframe tbody tr th:only-of-type {\n",
       "        vertical-align: middle;\n",
       "    }\n",
       "\n",
       "    .dataframe tbody tr th {\n",
       "        vertical-align: top;\n",
       "    }\n",
       "\n",
       "    .dataframe thead th {\n",
       "        text-align: right;\n",
       "    }\n",
       "</style>\n",
       "<table border=\"1\" class=\"dataframe\">\n",
       "  <thead>\n",
       "    <tr style=\"text-align: right;\">\n",
       "      <th></th>\n",
       "      <th>Country</th>\n",
       "      <th>Total_Cases</th>\n",
       "      <th>Total_Deaths</th>\n",
       "      <th>Total_Recovered</th>\n",
       "      <th>Active_Cases</th>\n",
       "      <th>Total_Tests</th>\n",
       "      <th>Population</th>\n",
       "      <th>Population_Density</th>\n",
       "      <th>Urban_Population_%</th>\n",
       "      <th>GDP_in_Mn</th>\n",
       "      <th>Num_of_Tourists_Arrival_in_1000s</th>\n",
       "    </tr>\n",
       "  </thead>\n",
       "  <tbody>\n",
       "    <tr>\n",
       "      <th>0</th>\n",
       "      <td>Afghanistan</td>\n",
       "      <td>2335</td>\n",
       "      <td>68</td>\n",
       "      <td>310</td>\n",
       "      <td>1957</td>\n",
       "      <td>10593</td>\n",
       "      <td>38928346</td>\n",
       "      <td>60</td>\n",
       "      <td>25</td>\n",
       "      <td>20682</td>\n",
       "      <td>0</td>\n",
       "    </tr>\n",
       "    <tr>\n",
       "      <th>1</th>\n",
       "      <td>Albania</td>\n",
       "      <td>773</td>\n",
       "      <td>31</td>\n",
       "      <td>470</td>\n",
       "      <td>272</td>\n",
       "      <td>8253</td>\n",
       "      <td>2877797</td>\n",
       "      <td>105</td>\n",
       "      <td>63</td>\n",
       "      <td>17210</td>\n",
       "      <td>5340000</td>\n",
       "    </tr>\n",
       "    <tr>\n",
       "      <th>2</th>\n",
       "      <td>Algeria</td>\n",
       "      <td>4006</td>\n",
       "      <td>450</td>\n",
       "      <td>1779</td>\n",
       "      <td>1777</td>\n",
       "      <td>6500</td>\n",
       "      <td>43851044</td>\n",
       "      <td>18</td>\n",
       "      <td>73</td>\n",
       "      <td>193056</td>\n",
       "      <td>2657000</td>\n",
       "    </tr>\n",
       "    <tr>\n",
       "      <th>3</th>\n",
       "      <td>Andorra</td>\n",
       "      <td>745</td>\n",
       "      <td>42</td>\n",
       "      <td>468</td>\n",
       "      <td>235</td>\n",
       "      <td>1673</td>\n",
       "      <td>77265</td>\n",
       "      <td>164</td>\n",
       "      <td>88</td>\n",
       "      <td>0</td>\n",
       "      <td>3042000</td>\n",
       "    </tr>\n",
       "    <tr>\n",
       "      <th>4</th>\n",
       "      <td>Angola</td>\n",
       "      <td>27</td>\n",
       "      <td>2</td>\n",
       "      <td>7</td>\n",
       "      <td>18</td>\n",
       "      <td>0</td>\n",
       "      <td>32866272</td>\n",
       "      <td>26</td>\n",
       "      <td>67</td>\n",
       "      <td>96426</td>\n",
       "      <td>218000</td>\n",
       "    </tr>\n",
       "    <tr>\n",
       "      <th>...</th>\n",
       "      <td>...</td>\n",
       "      <td>...</td>\n",
       "      <td>...</td>\n",
       "      <td>...</td>\n",
       "      <td>...</td>\n",
       "      <td>...</td>\n",
       "      <td>...</td>\n",
       "      <td>...</td>\n",
       "      <td>...</td>\n",
       "      <td>...</td>\n",
       "      <td>...</td>\n",
       "    </tr>\n",
       "    <tr>\n",
       "      <th>209</th>\n",
       "      <td>Vietnam</td>\n",
       "      <td>270</td>\n",
       "      <td>0</td>\n",
       "      <td>219</td>\n",
       "      <td>51</td>\n",
       "      <td>261004</td>\n",
       "      <td>97338579</td>\n",
       "      <td>314</td>\n",
       "      <td>0</td>\n",
       "      <td>282372</td>\n",
       "      <td>15498000</td>\n",
       "    </tr>\n",
       "    <tr>\n",
       "      <th>210</th>\n",
       "      <td>Western Sahara</td>\n",
       "      <td>6</td>\n",
       "      <td>0</td>\n",
       "      <td>5</td>\n",
       "      <td>1</td>\n",
       "      <td>0</td>\n",
       "      <td>597339</td>\n",
       "      <td>2</td>\n",
       "      <td>87</td>\n",
       "      <td>0</td>\n",
       "      <td>381000</td>\n",
       "    </tr>\n",
       "    <tr>\n",
       "      <th>211</th>\n",
       "      <td>Yemen</td>\n",
       "      <td>6</td>\n",
       "      <td>2</td>\n",
       "      <td>1</td>\n",
       "      <td>3</td>\n",
       "      <td>120</td>\n",
       "      <td>29825964</td>\n",
       "      <td>56</td>\n",
       "      <td>38</td>\n",
       "      <td>31385</td>\n",
       "      <td>0</td>\n",
       "    </tr>\n",
       "    <tr>\n",
       "      <th>212</th>\n",
       "      <td>Zambia</td>\n",
       "      <td>106</td>\n",
       "      <td>3</td>\n",
       "      <td>55</td>\n",
       "      <td>48</td>\n",
       "      <td>5284</td>\n",
       "      <td>18383955</td>\n",
       "      <td>25</td>\n",
       "      <td>45</td>\n",
       "      <td>25272</td>\n",
       "      <td>1072000</td>\n",
       "    </tr>\n",
       "    <tr>\n",
       "      <th>213</th>\n",
       "      <td>Zimbabwe</td>\n",
       "      <td>40</td>\n",
       "      <td>4</td>\n",
       "      <td>5</td>\n",
       "      <td>31</td>\n",
       "      <td>7642</td>\n",
       "      <td>14862924</td>\n",
       "      <td>38</td>\n",
       "      <td>38</td>\n",
       "      <td>25812</td>\n",
       "      <td>2580000</td>\n",
       "    </tr>\n",
       "  </tbody>\n",
       "</table>\n",
       "<p>214 rows × 11 columns</p>\n",
       "</div>"
      ],
      "text/plain": [
       "            Country  Total_Cases  Total_Deaths  Total_Recovered  Active_Cases  \\\n",
       "0       Afghanistan         2335            68              310          1957   \n",
       "1           Albania          773            31              470           272   \n",
       "2           Algeria         4006           450             1779          1777   \n",
       "3           Andorra          745            42              468           235   \n",
       "4            Angola           27             2                7            18   \n",
       "..              ...          ...           ...              ...           ...   \n",
       "209         Vietnam          270             0              219            51   \n",
       "210  Western Sahara            6             0                5             1   \n",
       "211           Yemen            6             2                1             3   \n",
       "212          Zambia          106             3               55            48   \n",
       "213        Zimbabwe           40             4                5            31   \n",
       "\n",
       "     Total_Tests  Population  Population_Density  Urban_Population_%  \\\n",
       "0          10593    38928346                  60                  25   \n",
       "1           8253     2877797                 105                  63   \n",
       "2           6500    43851044                  18                  73   \n",
       "3           1673       77265                 164                  88   \n",
       "4              0    32866272                  26                  67   \n",
       "..           ...         ...                 ...                 ...   \n",
       "209       261004    97338579                 314                   0   \n",
       "210            0      597339                   2                  87   \n",
       "211          120    29825964                  56                  38   \n",
       "212         5284    18383955                  25                  45   \n",
       "213         7642    14862924                  38                  38   \n",
       "\n",
       "     GDP_in_Mn  Num_of_Tourists_Arrival_in_1000s  \n",
       "0        20682                                 0  \n",
       "1        17210                           5340000  \n",
       "2       193056                           2657000  \n",
       "3            0                           3042000  \n",
       "4        96426                            218000  \n",
       "..         ...                               ...  \n",
       "209     282372                          15498000  \n",
       "210          0                            381000  \n",
       "211      31385                                 0  \n",
       "212      25272                           1072000  \n",
       "213      25812                           2580000  \n",
       "\n",
       "[214 rows x 11 columns]"
      ]
     },
     "execution_count": 48,
     "metadata": {},
     "output_type": "execute_result"
    }
   ],
   "source": [
    "final = pd.merge(result2,travel, on='Country')\n",
    "final"
   ]
  },
  {
   "cell_type": "code",
   "execution_count": 50,
   "metadata": {},
   "outputs": [],
   "source": [
    "final.to_csv(\"final.csv\")"
   ]
  },
  {
   "cell_type": "markdown",
   "metadata": {},
   "source": [
    "### Thank You!\n",
    "### - Rahul Gupta"
   ]
  }
 ],
 "metadata": {
  "kernelspec": {
   "display_name": "Python 3",
   "language": "python",
   "name": "python3"
  },
  "language_info": {
   "codemirror_mode": {
    "name": "ipython",
    "version": 3
   },
   "file_extension": ".py",
   "mimetype": "text/x-python",
   "name": "python",
   "nbconvert_exporter": "python",
   "pygments_lexer": "ipython3",
   "version": "3.7.6"
  }
 },
 "nbformat": 4,
 "nbformat_minor": 4
}
